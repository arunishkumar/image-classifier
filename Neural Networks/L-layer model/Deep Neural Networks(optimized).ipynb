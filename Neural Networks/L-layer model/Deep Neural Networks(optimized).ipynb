{
 "cells": [
  {
   "cell_type": "code",
   "execution_count": 1,
   "metadata": {},
   "outputs": [],
   "source": [
    "import numpy as np\n",
    "import matplotlib.pyplot as plt\n",
    "import h5py\n",
    "from Dnn_utils import  sigmoid, sigmoid_backward, relu, relu_backward\n",
    "from shallowData import load_dataset\n",
    "%matplotlib inline"
   ]
  },
  {
   "cell_type": "code",
   "execution_count": 2,
   "metadata": {},
   "outputs": [],
   "source": [
    "train_set_x_orig, test_set_x_orig,train_set_y,test_set_y, classes = load_dataset()"
   ]
  },
  {
   "cell_type": "code",
   "execution_count": 5,
   "metadata": {},
   "outputs": [
    {
     "data": {
      "image/png": "[encoded data removed]",
      "text/plain": [
       "<Figure size 432x288 with 1 Axes>"
      ]
     },
     "metadata": {
      "needs_background": "light"
     },
     "output_type": "display_data"
    },
    {
     "data": {
      "image/png": "[encoded data removed]",
      "text/plain": [
       "<Figure size 432x288 with 1 Axes>"
      ]
     },
     "metadata": {
      "needs_background": "light"
     },
     "output_type": "display_data"
    },
    {
     "name": "stdout",
     "output_type": "stream",
     "text": [
      "Train accuracy100.0%\n",
      "Test accuracy80.0%\n"
     ]
    }
   ],
   "source": [
    "train_set_x_flat=train_set_x_orig.reshape(train_set_x_orig.shape[0], -1).T\n",
    "train_set_x=train_set_x_flat/255\n",
    "\n",
    "test_set_x_flat=test_set_x_orig.reshape(test_set_x_orig.shape[0], -1).T\n",
    "test_set_x=test_set_x_flat/255\n",
    "\n",
    "def layer_sizes(X,Y):\n",
    "    n_x=X.shape[0]\n",
    "    n_y=Y.shape[0]\n",
    "    return n_x,n_y\n",
    "def initialize_parameters(layer_dims):\n",
    "    parameters={}\n",
    "    for i in range(1,len(layer_dims)):\n",
    "        parameters[\"W\"+str(i)]=np.random.randn(layer_dims[i],layer_dims[i-1])*np.sqrt(2/layer_dims[i-1])\n",
    "        parameters[\"b\"+str(i)]=np.zeros((layer_dims[i],1))\n",
    "    return parameters\n",
    "def linear_forward(W,A,b):\n",
    "    Z=np.dot(W,A)+b\n",
    "    cache=(W,A,b)\n",
    "    return Z,cache\n",
    "def linear_activation_forward(W,A_prev,b,activation):\n",
    "    if(activation==\"relu\"):\n",
    "        Z,linear_cache=linear_forward(W,A_prev,b)\n",
    "        A,activation_cache=relu(Z)\n",
    "    elif(activation==\"sigmoid\"):\n",
    "        Z,linear_cache=linear_forward(W,A_prev,b)\n",
    "        A,activation_cache = sigmoid(Z)\n",
    "    cache=(linear_cache,activation_cache)\n",
    "    return A,cache\n",
    "def L_model_forward(X,parameters):\n",
    "    caches=[]\n",
    "    A=X\n",
    "    L=len(parameters)//2\n",
    "    for i in range(1,L):\n",
    "        A,cache=linear_activation_forward(parameters[\"W\"+str(i)],A,parameters[\"b\"+str(i)],\"relu\")\n",
    "        caches.append(cache)\n",
    "    A,cache=linear_activation_forward(parameters[\"W\"+str(L)],A,parameters[\"b\"+str(L)],\"sigmoid\")\n",
    "    caches.append(cache)\n",
    "    AL=A\n",
    "    return AL,caches\n",
    "def linear_backward(dZ,cache):\n",
    "    W,A_prev,b=cache\n",
    "    m=A_prev.shape[1]\n",
    "    dW=np.dot(dZ,A_prev.T)/m\n",
    "    db=np.sum(dZ,axis=1,keepdims=True)/m\n",
    "    dA_prev=np.dot(W.T,dZ)\n",
    "    return dW,dA_prev,db\n",
    "def linear_activation_backward(dA,cache,activation):\n",
    "    linear_cache,activation_cache=cache\n",
    "    if(activation==\"relu\"):\n",
    "        dZ=relu_backward(dA,activation_cache)\n",
    "        dW,dA_prev,db=linear_backward(dZ,linear_cache)\n",
    "    elif(activation==\"sigmoid\"):\n",
    "        dZ=sigmoid_backward(dA,activation_cache)\n",
    "        dW,dA_prev,db=linear_backward(dZ,linear_cache)\n",
    "    return dW,dA_prev,db\n",
    "def L_model_backward(AL,Y,caches):#caches is(linear_cache,activation_cache)\n",
    "    L=len(caches)\n",
    "    m=AL.shape[1]\n",
    "    grads={}\n",
    "    current_cache=caches[L-1]\n",
    "    dAL=-(np.divide(Y,AL)-np.divide(1-Y,1-AL))\n",
    "    grads[\"dW\"+str(L)],grads[\"dA\"+str(L-1)],grads[\"db\"+str(L)]=linear_activation_backward(dAL,current_cache,\"sigmoid\")\n",
    "    for l in reversed(range(L-1)):\n",
    "        current_cache=caches[l]\n",
    "        grads[\"dW\"+str(l+1)],grads[\"dA\"+str(l)],grads[\"db\"+str(l+1)]=linear_activation_backward(grads[\"dA\"+str(l+1)],current_cache,\"relu\")\n",
    "    return grads    \n",
    "def update_parameters(parameters,grads,learning_rate):\n",
    "    L=len(parameters)//2\n",
    "    for i in range(1,L+1):\n",
    "          parameters[\"W\"+str(i)]=parameters[\"W\"+str(i)]-learning_rate*grads[\"dW\"+str(i)]\n",
    "          parameters[\"b\"+str(i)]=parameters[\"b\"+str(i)]-learning_rate*grads[\"db\"+str(i)]\n",
    "    return parameters\n",
    "def predict(parameters,X):\n",
    "    AL,caches=L_model_forward(X,parameters)\n",
    "    Y_prediction=np.round(AL)\n",
    "    return Y_prediction\n",
    "  \n",
    "def train_model(X_train,Y_train,layer_dims,num_iterations,learning_rate):\n",
    "    parameters=initialize_parameters(layer_dims)\n",
    "    train=[]\n",
    "    test=[]\n",
    "    for i in range(num_iterations):\n",
    "        AL,caches=L_model_forward(X_train,parameters)\n",
    "        grads=L_model_backward(AL,Y_train,caches)\n",
    "        param=update_parameters(parameters,grads,learning_rate)\n",
    "        if(i%250==0):\n",
    "            Y_train_prediction=predict(parameters,train_set_x)\n",
    "            train.append(100-np.mean(np.abs(Y_train_prediction-train_set_y))*100)\n",
    "            Y_test_prediction=predict(parameters,test_set_x)\n",
    "            test.append(100-np.mean(np.abs(Y_test_prediction-test_set_y))*100)\n",
    "    plt.plot(train)\n",
    "    plt.show()\n",
    "    plt.plot(test)\n",
    "    plt.show()\n",
    "    return param\n",
    "n_x,n_y=layer_sizes(train_set_x,train_set_y)\n",
    "d=train_model(train_set_x,train_set_y,[n_x,20,7,5,n_y],2000,0.0025)\n",
    "Y_train_prediction=predict(d,train_set_x)\n",
    "Y_test_prediction=predict(d,test_set_x)\n",
    "print(\"Train accuracy{}%\".format(100-np.mean(np.abs(Y_train_prediction-train_set_y))*100))\n",
    "print(\"Test accuracy{}%\".format(100-np.mean(np.abs(Y_test_prediction-test_set_y))*100))\n",
    "\n",
    "\n",
    "          \n",
    "        \n",
    "        \n",
    "        \n",
    "    "
   ]
  },
  {
   "cell_type": "code",
   "execution_count": null,
   "metadata": {},
   "outputs": [],
   "source": []
  },
  {
   "cell_type": "code",
   "execution_count": null,
   "metadata": {},
   "outputs": [],
   "source": []
  }
 ],
 "metadata": {
  "kernelspec": {
   "display_name": "Python 3",
   "language": "python",
   "name": "python3"
  },
  "language_info": {
   "codemirror_mode": {
    "name": "ipython",
    "version": 3
   },
   "file_extension": ".py",
   "mimetype": "text/x-python",
   "name": "python",
   "nbconvert_exporter": "python",
   "pygments_lexer": "ipython3",
   "version": "3.6.5"
  }
 },
 "nbformat": 4,
 "nbformat_minor": 2
}
