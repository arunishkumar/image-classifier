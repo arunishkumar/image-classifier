{
 "cells": [
  {
   "cell_type": "code",
   "execution_count": 3,
   "metadata": {},
   "outputs": [],
   "source": [
    "import numpy as np\n",
    "import matplotlib.pyplot as plt\n",
    "import h5py\n",
    "import scipy.misc\n",
    "from shallowData import load_dataset\n",
    "%matplotlib inline"
   ]
  },
  {
   "cell_type": "code",
   "execution_count": 4,
   "metadata": {},
   "outputs": [],
   "source": [
    "train_set_x_orig, test_set_x_orig,train_set_y,test_set_y, classes = load_dataset()"
   ]
  },
  {
   "cell_type": "code",
   "execution_count": 17,
   "metadata": {},
   "outputs": [
    {
     "name": "stdout",
     "output_type": "stream",
     "text": [
      "train accuracy: 99.04306220095694 %\n",
      "test accuracy: 70.0 %\n"
     ]
    }
   ],
   "source": [
    "m_train=train_set_x_orig.shape[0]\n",
    "num_px=train_set_x_orig.shape[1]\n",
    "train_set_x_flat=train_set_x_orig.reshape(train_set_x_orig.shape[0], -1).T\n",
    "train_set_x=train_set_x_flat/255\n",
    "\n",
    "test_set_x_flat=test_set_x_orig.reshape(test_set_x_orig.shape[0], -1).T\n",
    "test_set_x=test_set_x_flat/255\n",
    "\n",
    "def sigmoid(z):\n",
    "    s=1/(1+np.exp(-z))\n",
    "    return s\n",
    "def initialize_zeros(dim):\n",
    "    w=np.zeros((dim,1))\n",
    "    b=0\n",
    "    return w,b\n",
    "\n",
    "def propagate(w,b,X,Y):\n",
    "    m=X.shape[1]\n",
    "    A=1/(1+np.exp(-(np.dot(w.T,X)+b)))\n",
    "    cost=-(Y*np.log(A)+(1-Y)*np.log(1-A))\n",
    "    dw=np.dot(X,(A-Y).T)/m\n",
    "    db=np.sum(A-Y)/m\n",
    "    cost=np.squeeze(cost)\n",
    "    grads={\"dw\":dw,\"db\":db}\n",
    "    return grads,cost\n",
    "\n",
    "def optimize(w,b,X,Y,num_iterations,learning_rate):\n",
    "    for i in range(num_iterations):\n",
    "        grads,cost=propagate(w,b,X,Y)\n",
    "        dw=grads[\"dw\"]\n",
    "        db=grads[\"db\"]\n",
    "        w=w-learning_rate*dw\n",
    "        b=b-learning_rate*db\n",
    "    param={\"w\":w,\"b\":b}\n",
    "    return param,grads\n",
    "\n",
    "def predict(w,b,X):\n",
    "    m=X.shape[1]\n",
    "    Y_prediction=np.zeros((1,m))\n",
    "    w=w.reshape((X.shape[0],1))\n",
    "    A= sigmoid(np.dot(w.T,X)+b)\n",
    "    Y_prediction=np.round(A)\n",
    "    return Y_prediction\n",
    "\n",
    "def model(X_train,Y_train,num_iterations,learning_rate):\n",
    "       w,b=initialize_zeros(X_train.shape[0])\n",
    "       parameters, grads=  optimize(w, b, X_train, Y_train, num_iterations, learning_rate)\n",
    "       w = parameters[\"w\"]\n",
    "       b = parameters[\"b\"]\n",
    "       d = {\n",
    "         \"w\" : w, \n",
    "         \"b\" : b,\n",
    "         \"learning_rate\" : learning_rate,\n",
    "         \"num_iterations\": num_iterations}\n",
    "    \n",
    "       return d\n",
    "d=model(train_set_x, train_set_y,num_iterations = 2000, learning_rate = 0.005)       \n",
    "Y_prediction=predict(d[\"w\"],d[\"b\"],train_set_x)\n",
    "Y_test_prediction=predict(d[\"w\"],d[\"b\"],test_set_x)\n",
    "print(\"train accuracy: {} %\".format(100 - np.mean(np.abs(Y_prediction- train_set_y)) * 100))\n",
    "print(\"test accuracy: {} %\".format(100 - np.mean(np.abs(Y_test_prediction- test_set_y)) * 100))\n",
    "#my_image = \"test.jpg\"\n",
    "#fname = \"images/\" + my_image\n",
    "#image = np.array(scipy.misc.imread(fname, flatten=False))\n",
    "#image = image/255.\n",
    "#my_image = scipy.misc.imresize(image, size=(num_px,num_px)).reshape((1, num_px*num_px*3)).T\n",
    "#my_predicted_image = predict(d[\"w\"], d[\"b\"], my_image)\n",
    "#plt.imshow(image)\n",
    "#print(\"y = \" + str(np.squeeze(my_predicted_image)) + \"the given picture is a \\\"\" + classes[int(np.squeeze(my_predicted_image)),].decode(\"utf-8\") +  \"\\\" picture.\")"
   ]
  },
  {
   "cell_type": "code",
   "execution_count": null,
   "metadata": {},
   "outputs": [],
   "source": []
  },
  {
   "cell_type": "code",
   "execution_count": null,
   "metadata": {},
   "outputs": [],
   "source": []
  },
  {
   "cell_type": "code",
   "execution_count": null,
   "metadata": {},
   "outputs": [],
   "source": []
  },
  {
   "cell_type": "code",
   "execution_count": null,
   "metadata": {},
   "outputs": [],
   "source": []
  }
 ],
 "metadata": {
  "kernelspec": {
   "display_name": "Python 3",
   "language": "python",
   "name": "python3"
  },
  "language_info": {
   "codemirror_mode": {
    "name": "ipython",
    "version": 3
   },
   "file_extension": ".py",
   "mimetype": "text/x-python",
   "name": "python",
   "nbconvert_exporter": "python",
   "pygments_lexer": "ipython3",
   "version": "3.6.5"
  }
 },
 "nbformat": 4,
 "nbformat_minor": 2
}
