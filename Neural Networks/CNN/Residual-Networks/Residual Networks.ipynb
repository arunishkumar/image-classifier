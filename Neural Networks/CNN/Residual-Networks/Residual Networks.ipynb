{
 "cells": [
  {
   "cell_type": "code",
   "execution_count": 1,
   "metadata": {},
   "outputs": [
    {
     "name": "stderr",
     "output_type": "stream",
     "text": [
      "Using TensorFlow backend.\n"
     ]
    }
   ],
   "source": [
    "import numpy as np\n",
    "from keras import layers\n",
    "from keras.layers import Input,Add,Dense,Activation,ZeroPadding2D,BatchNormalization,Flatten,Conv2D,AveragePooling2D,MaxPooling2D,GlobalMaxPooling2D\n",
    "from keras.models import Model,load_model\n",
    "from keras.preprocessing import image\n",
    "from keras.utils import layer_utils\n",
    "from keras.utils.data_utils import get_file\n",
    "from keras.applications.imagenet_utils import preprocess_input\n",
    "import pydot\n",
    "from IPython.display import SVG\n",
    "from keras.utils.vis_utils import model_to_dot\n",
    "from keras.utils import plot_model\n",
    "from ResNet_utils import *\n",
    "from keras.initializers import glorot_uniform\n",
    "import scipy.misc\n",
    "from matplotlib.pyplot import imshow\n",
    "%matplotlib inline\n",
    "\n",
    "import keras.backend as K\n",
    "K.set_image_data_format('channels_last')\n",
    "K.set_learning_phase(1)\n"
   ]
  },
  {
   "cell_type": "code",
   "execution_count": 2,
   "metadata": {},
   "outputs": [],
   "source": [
    "X_train_orig,Y_train_orig,X_test_orig,Y_test_orig,classes=load_dataset()\n",
    "X_train=X_train_orig/255\n",
    "X_test=X_test_orig/255\n",
    "Y_train=convert_to_one_hot(Y_train_orig,6).T\n",
    "Y_test=convert_to_one_hot(Y_test_orig,6).T"
   ]
  },
  {
   "cell_type": "code",
   "execution_count": 3,
   "metadata": {},
   "outputs": [],
   "source": [
    "def identity_block(X,f,filters,stage,block):\n",
    "    conv_name_base='res'+str(stage)+block+'_branch'\n",
    "    bn_name_base='bn'+str(stage)+block+'_branch'\n",
    "    F1,F2,F3=filters\n",
    "    X_shortcut=X\n",
    "    #Layer 1\n",
    "    X=Conv2D(filters= F1,kernel_size=(1,1),strides=(1,1),padding='valid',name=conv_name_base+'2a',kernel_initializer=glorot_uniform())(X)\n",
    "    X=BatchNormalization(axis=3,name=bn_name_base+'2a')(X)\n",
    "    X=Activation('relu')(X)\n",
    "    #layer 2\n",
    "    X=Conv2D(filters=F2,kernel_size=(f,f),strides=(1,1),padding='same',name=conv_name_base+'2b',kernel_initializer=glorot_uniform())(X)\n",
    "    X=BatchNormalization(axis=3,name=bn_name_base+'2b')(X)\n",
    "    X=Activation('relu')(X)\n",
    "    #layer 3\n",
    "    X=Conv2D(filters=F3,kernel_size=(1,1),strides=(1,1),padding='valid',name=conv_name_base+'2c',kernel_initializer=glorot_uniform())(X)\n",
    "    X=BatchNormalization(axis=3,name=bn_name_base+'2c')(X)\n",
    "    X=Activation('relu')(X)\n",
    "    #Add value of a[l] before a[l+3]\n",
    "    X=Add()([X,X_shortcut])\n",
    "    X=Activation('relu')(X)\n",
    "    return X\n",
    "\n",
    "def convolutional_block(X,f,filters,stage,block,s=2):\n",
    "    conv_name_base='res'+str(stage)+block+'_branch'\n",
    "    bn_name_base='bn'+str(stage)+block+'_branch'\n",
    "    F1,F2,F3=filters\n",
    "    X_shortcut=X\n",
    "    #layer 1\n",
    "    X=Conv2D(filters=F1,kernel_size=(1,1),strides=(s,s),padding='valid',name=conv_name_base+'2a',kernel_initializer=glorot_uniform())(X)\n",
    "    X=BatchNormalization(axis=3,name=bn_name_base+'2a')(X)\n",
    "    X=Activation('relu')(X)\n",
    "    #layer 2\n",
    "    X=Conv2D(filters=F2,kernel_size=(f,f),strides=(1,1),padding='same',name=conv_name_base+'2b',kernel_initializer=glorot_uniform())(X)\n",
    "    X=BatchNormalization(axis=3,name=bn_name_base+'2b')(X)\n",
    "    X=Activation('relu')(X)\n",
    "    #layer 3\n",
    "    X=Conv2D(filters=F3,kernel_size=(1,1),strides=(1,1),padding='valid',name=conv_name_base+'2c',kernel_initializer=glorot_uniform())(X)\n",
    "    X=BatchNormalization(axis=3,name=bn_name_base+'2c')(X)\n",
    "    X=Activation('relu')(X)\n",
    "    #adding 1 convolutional layer in X_shortcut.Reason:To make it of same size as X\n",
    "    X_shortcut=Conv2D(filters=F3,kernel_size=(1,1),strides=(s,s),name=conv_name_base+'1',kernel_initializer=glorot_uniform())(X)\n",
    "    X_shortcut=BatchNormalization(axis=3,name=bn_name_base+'1')(X)\n",
    "    #Now add\n",
    "    X=Add()([X,X_shortcut])\n",
    "    X=Activation('relu')(X)\n",
    "    return X\n",
    "\n",
    "def ResNet50(input_shape=(64,64,3),classes=6):\n",
    "    \"\"\"\"\n",
    "    Implementation of the popular ResNet50 the following architecture:\n",
    "    CONV2D -> BATCHNORM -> RELU -> MAXPOOL -> CONVBLOCK -> IDBLOCK*2 -> CONVBLOCK -> IDBLOCK*3\n",
    "    -> CONVBLOCK -> IDBLOCK*5 -> CONVBLOCK -> IDBLOCK*2 -> AVGPOOL -> TOPLAYER\n",
    "    \"\"\"\n",
    "    #tensor created\n",
    "    X_input=Input(input_shape)\n",
    "    X=ZeroPadding2D((3,3))(X_input)\n",
    "    #stage 1 \n",
    "    X=Conv2D(filters=64,kernel_size=(7,7),strides=(1,1),name='conv1',kernel_initializer=glorot_uniform())(X)\n",
    "    X=BatchNormalization(axis=3,name='bn1')(X)\n",
    "    X=Activation('relu')(X)\n",
    "    X=MaxPooling2D((3,3),strides=(2,2))(X)\n",
    "    #stage 2\n",
    "    X=convolutional_block(X,f=3,filters=[64,64,256],stage=2,block='a',s=1)\n",
    "    X=identity_block(X,3,[64,64,256],stage=2,block='b')\n",
    "    X=identity_block(X,3,[64,64,256],stage=2,block='c')\n",
    "    #stage 3\n",
    "    X=convolutional_block(X,f=3,filters=[128,128,512],stage=3,block='a',s=2)\n",
    "    X=identity_block(X,3,[128,128,512],stage=3,block='b')\n",
    "    X=identity_block(X,3,[128,128,512],stage=3,block='c')\n",
    "    X=identity_block(X,3,[128,128,512],stage=3,block='d')\n",
    "    #stage 4\n",
    "    X=convolutional_block(X,f=3,filters=[256,256,1024],stage=4,block='a',s=2)\n",
    "    X=identity_block(X,3,[256,256,1024],stage=4,block='b')\n",
    "    X=identity_block(X,3,[256,256,1024],stage=4,block='c')\n",
    "    X=identity_block(X,3,[256,256,1024],stage=4,block='d')\n",
    "    X=identity_block(X,3,[256,256,1024],stage=4,block='e')\n",
    "    X=identity_block(X,3,[256,256,1024],stage=4,block='f')\n",
    "    #stage 5\n",
    "    X=convolutional_block(X,f=3,filters=[512,512,2048],stage=5,block='a',s=2)\n",
    "    X=identity_block(X,3,[512,512,2048],stage=5,block='b')\n",
    "    X=identity_block(X,3,[512,512,2048],stage=5,block='c')\n",
    "    #average pooling\n",
    "    X=AveragePooling2D(pool_size=(2,2),padding='same')(X)\n",
    "    #output layer\n",
    "    X=Flatten()(X)\n",
    "    X=Dense(classes,activation='softmax',name='fc'+str(classes),kernel_initializer=glorot_uniform())(X)\n",
    "    model=Model(inputs=X_input,outputs=X,name='resNet50')\n",
    "    return model\n",
    "\n",
    "\n",
    "    "
   ]
  },
  {
   "cell_type": "code",
   "execution_count": 4,
   "metadata": {},
   "outputs": [
    {
     "name": "stdout",
     "output_type": "stream",
     "text": [
      "Epoch 1/8\n",
      "1080/1080 [==============================] - 499s 462ms/step - loss: 5.3386 - accuracy: 0.2889\n",
      "Epoch 2/8\n",
      "1080/1080 [==============================] - 423s 391ms/step - loss: 2.0268 - accuracy: 0.5519\n",
      "Epoch 3/8\n",
      "1080/1080 [==============================] - 417s 386ms/step - loss: 0.8755 - accuracy: 0.7472\n",
      "Epoch 4/8\n",
      "1080/1080 [==============================] - 418s 387ms/step - loss: 0.9001 - accuracy: 0.7111\n",
      "Epoch 5/8\n",
      "1080/1080 [==============================] - 416s 385ms/step - loss: 0.4588 - accuracy: 0.8343\n",
      "Epoch 6/8\n",
      "1080/1080 [==============================] - 416s 386ms/step - loss: 0.9493 - accuracy: 0.8398\n",
      "Epoch 7/8\n",
      "1080/1080 [==============================] - 416s 385ms/step - loss: 0.6272 - accuracy: 0.8500\n",
      "Epoch 8/8\n",
      "1080/1080 [==============================] - 421s 390ms/step - loss: 0.2840 - accuracy: 0.9028\n"
     ]
    },
    {
     "data": {
      "text/plain": [
       "<keras.callbacks.callbacks.History at 0x169727c1e10>"
      ]
     },
     "execution_count": 4,
     "metadata": {},
     "output_type": "execute_result"
    }
   ],
   "source": [
    "#now comile the function\n",
    "model=ResNet50(input_shape=(64,64,3),classes=6)\n",
    "\n",
    "model.compile(optimizer='adam',loss='categorical_crossentropy',metrics=['accuracy'])\n",
    "model.fit(X_train,Y_train,epochs=8,batch_size=32)"
   ]
  },
  {
   "cell_type": "code",
   "execution_count": 5,
   "metadata": {},
   "outputs": [
    {
     "name": "stdout",
     "output_type": "stream",
     "text": [
      "120/120 [==============================] - 17s 146ms/step\n",
      "Test Accuracy0.8666666746139526\n"
     ]
    }
   ],
   "source": [
    "preds=model.evaluate(X_test,Y_test)\n",
    "test_accuracy=print(\"Test Accuracy\"+str(preds[1]))"
   ]
  },
  {
   "cell_type": "code",
   "execution_count": null,
   "metadata": {},
   "outputs": [],
   "source": []
  }
 ],
 "metadata": {
  "kernelspec": {
   "display_name": "Python 3",
   "language": "python",
   "name": "python3"
  },
  "language_info": {
   "codemirror_mode": {
    "name": "ipython",
    "version": 3
   },
   "file_extension": ".py",
   "mimetype": "text/x-python",
   "name": "python",
   "nbconvert_exporter": "python",
   "pygments_lexer": "ipython3",
   "version": "3.6.5"
  }
 },
 "nbformat": 4,
 "nbformat_minor": 2
}
