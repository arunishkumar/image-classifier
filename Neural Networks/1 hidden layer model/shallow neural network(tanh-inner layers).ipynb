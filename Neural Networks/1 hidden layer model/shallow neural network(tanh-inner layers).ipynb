{
 "cells": [
  {
   "cell_type": "code",
   "execution_count": 1,
   "metadata": {},
   "outputs": [],
   "source": [
    "import numpy as np\n",
    "import matplotlib.pyplot as plt\n",
    "import h5py\n",
    "from shallowData import load_dataset\n",
    "%matplotlib inline"
   ]
  },
  {
   "cell_type": "code",
   "execution_count": 2,
   "metadata": {},
   "outputs": [],
   "source": [
    "train_set_x_orig, test_set_x_orig,train_set_y,test_set_y, classes = load_dataset()"
   ]
  },
  {
   "cell_type": "code",
   "execution_count": 10,
   "metadata": {},
   "outputs": [
    {
     "name": "stdout",
     "output_type": "stream",
     "text": [
      "Train accuracy95.2153110047847%\n",
      "Train accuracy70.0%\n"
     ]
    }
   ],
   "source": [
    "train_set_x_flat=train_set_x_orig.reshape(train_set_x_orig.shape[0], -1).T\n",
    "train_set_x=train_set_x_flat/255\n",
    "\n",
    "test_set_x_flat=test_set_x_orig.reshape(test_set_x_orig.shape[0], -1).T\n",
    "test_set_x=test_set_x_flat/255\n",
    "\n",
    "n_h=10\n",
    "def sigmoid(z):\n",
    "    s=1/(1+np.exp(-z))\n",
    "    return s\n",
    "def layer_sizes(X,Y):\n",
    "    n_x=X.shape[0]\n",
    "    n_y=Y.shape[0]\n",
    "    return n_x,n_y\n",
    "def initialize_parameters(X,n_x,n_h,n_y):\n",
    "    m=X.shape[1]\n",
    "    W1=np.random.randn(n_h,n_x)*0.01\n",
    "    b1=np.zeros((n_h,1))\n",
    "    W2=np.random.randn(n_y,n_h)\n",
    "    b2=np.zeros((n_y,1))\n",
    "    parameters={\"W1\":W1,\"b1\":b1,\"W2\":W2,\"b2\":b2}\n",
    "    return parameters\n",
    "def forward_propagation(parameters,X):\n",
    "    W1=parameters[\"W1\"]\n",
    "    b1=parameters[\"b1\"]\n",
    "    W2=parameters[\"W2\"]\n",
    "    b2=parameters[\"b2\"]\n",
    "    Z1=np.dot(W1,X)+b1\n",
    "    A1=np.tanh(Z1)\n",
    "    Z2=np.dot(W2,A1)+b2\n",
    "    A2=sigmoid(Z2)\n",
    "    cache={\"Z1\":Z1,\"A1\":A1,\"Z2\":Z2,\"A2\":A2}\n",
    "    return A2,cache\n",
    "def backward_propagation(cache,parameters,X,Y):\n",
    "    m=X.shape[1]\n",
    "    A1=cache[\"A1\"]\n",
    "    A2=cache[\"A2\"]\n",
    "    W2=parameters[\"W2\"]\n",
    "    dZ2=A2-Y\n",
    "    dW2=np.dot(dZ2,A1.T)/m\n",
    "    db2=np.sum(dZ2,axis=1,keepdims=True)\n",
    "    dZ1=np.dot(W2.T,dZ2)*(1-np.power(A1,2))\n",
    "    dW1=np.dot(dZ1,X.T)\n",
    "    db1=np.sum(dZ1,axis=1,keepdims=True)/m\n",
    "    grads={\"dW1\":dW1,\"db1\":db1,\"dW2\":dW2,\"db2\":db2}\n",
    "    return grads\n",
    "def update_parameters(parameters,grads,learning_rate):\n",
    "    W1=parameters[\"W1\"]\n",
    "    W2=parameters[\"W2\"]\n",
    "    b1=parameters[\"b1\"]\n",
    "    b2=parameters[\"b2\"]\n",
    "    db1=grads[\"db1\"]\n",
    "    db2=grads[\"db2\"]\n",
    "    dW1=grads[\"dW1\"]\n",
    "    dW2=grads[\"dW2\"]\n",
    "    W1=W1-learning_rate*dW1\n",
    "    W2=W2-learning_rate*dW2\n",
    "    b1=b1-learning_rate*db1\n",
    "    b2=b2-learning_rate*db2\n",
    "    parameters={\"W1\":W1,\"b1\":b1,\"W2\":W2,\"b2\":b2}\n",
    "    return parameters\n",
    "def predict(parameters,X_train):\n",
    "    A2,cache=forward_propagation(parameters,X_train)\n",
    "    Y_prediction=np.round(A2)\n",
    "    return Y_prediction\n",
    "def training_model(X_train,Y_train,num_iterations,learning_rate):\n",
    "    n_x,n_y=layer_sizes(X_train,Y_train)\n",
    "    parameters=initialize_parameters(X_train,n_x,n_h,n_y)\n",
    "    for i in range(num_iterations):\n",
    "        A2,cache=forward_propagation(parameters,X_train)\n",
    "        grads=backward_propagation(cache,parameters,X_train,Y_train)\n",
    "        parameters=update_parameters(parameters,grads,learning_rate)\n",
    "    return parameters\n",
    "param=training_model(train_set_x,train_set_y,9000,0.0025)\n",
    "Y_train_prediction=predict(param,train_set_x)\n",
    "Y_test_prediction=predict(param,test_set_x)\n",
    "print(\"Train accuracy{}%\".format(100-np.mean(np.abs(Y_train_prediction-train_set_y))*100))\n",
    "print(\"Train accuracy{}%\".format(100-np.mean(np.abs(Y_test_prediction-test_set_y))*100))"
   ]
  },
  {
   "cell_type": "code",
   "execution_count": null,
   "metadata": {},
   "outputs": [],
   "source": []
  }
 ],
 "metadata": {
  "kernelspec": {
   "display_name": "Python 3",
   "language": "python",
   "name": "python3"
  },
  "language_info": {
   "codemirror_mode": {
    "name": "ipython",
    "version": 3
   },
   "file_extension": ".py",
   "mimetype": "text/x-python",
   "name": "python",
   "nbconvert_exporter": "python",
   "pygments_lexer": "ipython3",
   "version": "3.6.5"
  }
 },
 "nbformat": 4,
 "nbformat_minor": 2
}
